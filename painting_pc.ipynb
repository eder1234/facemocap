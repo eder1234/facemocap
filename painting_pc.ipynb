{
 "cells": [
  {
   "cell_type": "code",
   "execution_count": 1,
   "metadata": {},
   "outputs": [
    {
     "name": "stdout",
     "output_type": "stream",
     "text": [
      "Jupyter environment detected. Enabling Open3D WebVisualizer.\n",
      "[Open3D INFO] WebRTC GUI backend enabled.\n",
      "[Open3D INFO] WebRTCWindowSystem: HTTP handshake server disabled.\n"
     ]
    }
   ],
   "source": [
    "import open3d as o3d\n",
    "import numpy as np\n",
    "import pandas as pd\n",
    "#import functions as f\n",
    "import matplotlib.pyplot as plt\n",
    "#from scipy.interpolate import interp1d\n",
    "import seqpc"
   ]
  },
  {
   "cell_type": "code",
   "execution_count": 2,
   "metadata": {},
   "outputs": [
    {
     "data": {
      "text/html": [
       "<div>\n",
       "<style scoped>\n",
       "    .dataframe tbody tr th:only-of-type {\n",
       "        vertical-align: middle;\n",
       "    }\n",
       "\n",
       "    .dataframe tbody tr th {\n",
       "        vertical-align: top;\n",
       "    }\n",
       "\n",
       "    .dataframe thead th {\n",
       "        text-align: right;\n",
       "    }\n",
       "</style>\n",
       "<table border=\"1\" class=\"dataframe\">\n",
       "  <thead>\n",
       "    <tr style=\"text-align: right;\">\n",
       "      <th></th>\n",
       "      <th>File name</th>\n",
       "      <th>Original SPC</th>\n",
       "      <th>Name</th>\n",
       "      <th>Experimentator</th>\n",
       "      <th>MoCap platform</th>\n",
       "      <th>Pathology</th>\n",
       "      <th>Repetitive</th>\n",
       "      <th>Movement</th>\n",
       "      <th>Date</th>\n",
       "    </tr>\n",
       "  </thead>\n",
       "  <tbody>\n",
       "    <tr>\n",
       "      <th>551</th>\n",
       "      <td>P21_D1_M3x10e8.csv</td>\n",
       "      <td>[[5.84985, 162.401, 581.25, -3.42941, 153.857,...</td>\n",
       "      <td>NaN</td>\n",
       "      <td>Mattieu</td>\n",
       "      <td>UTC</td>\n",
       "      <td>Facial palsy</td>\n",
       "      <td>False</td>\n",
       "      <td>3</td>\n",
       "      <td>NaN</td>\n",
       "    </tr>\n",
       "  </tbody>\n",
       "</table>\n",
       "</div>"
      ],
      "text/plain": [
       "              File name                                       Original SPC   \n",
       "551  P21_D1_M3x10e8.csv  [[5.84985, 162.401, 581.25, -3.42941, 153.857,...  \\\n",
       "\n",
       "    Name Experimentator MoCap platform     Pathology  Repetitive Movement Date  \n",
       "551  NaN        Mattieu            UTC  Facial palsy       False        3  NaN  "
      ]
     },
     "execution_count": 2,
     "metadata": {},
     "output_type": "execute_result"
    }
   ],
   "source": [
    "facemocap_df = pd.read_pickle('facemocap_df.pkl')\n",
    "facemocap_df.sample(1)"
   ]
  },
  {
   "cell_type": "code",
   "execution_count": 3,
   "metadata": {},
   "outputs": [],
   "source": [
    "file_name = 'JB01_M5.csv'\n",
    "Original_SPC = 'Original SPC'\n",
    "scaled=False, \n",
    "interpolated=False\n",
    "dental_support_frame=False\n",
    "target_length=100\n",
    "t = 50"
   ]
  },
  {
   "cell_type": "code",
   "execution_count": 4,
   "metadata": {},
   "outputs": [
    {
     "name": "stdout",
     "output_type": "stream",
     "text": [
      "Dental support was removed\n"
     ]
    },
    {
     "name": "stderr",
     "output_type": "stream",
     "text": [
      "c:\\Users\\ederro\\Documents\\GitHub\\test_3d\\seqpc.py:36: RuntimeWarning: All-NaN slice encountered\n",
      "  spc_array = spc_array - np.nanmin(np.nanmin(spc_array, axis=0), axis=0)\n",
      "c:\\Users\\ederro\\Documents\\GitHub\\test_3d\\seqpc.py:37: RuntimeWarning: All-NaN slice encountered\n",
      "  spc_array = spc_array / np.nanmax(np.nanmax(spc_array, axis=0), axis=0)\n"
     ]
    }
   ],
   "source": [
    "spc, spc_array = seqpc.get_spc_from_df(facemocap_df, file_name, scaled=True, interpolated=True)"
   ]
  },
  {
   "cell_type": "code",
   "execution_count": 5,
   "metadata": {},
   "outputs": [],
   "source": [
    "spca0 = spc_array[0] # more "
   ]
  },
  {
   "cell_type": "code",
   "execution_count": 6,
   "metadata": {},
   "outputs": [
    {
     "data": {
      "text/plain": [
       "(100, 108, 3)"
      ]
     },
     "execution_count": 6,
     "metadata": {},
     "output_type": "execute_result"
    }
   ],
   "source": [
    "spc_array.shape"
   ]
  },
  {
   "cell_type": "code",
   "execution_count": 8,
   "metadata": {},
   "outputs": [],
   "source": [
    "def colored_array(color_name, array):\n",
    "    color_array = np.tile([0,0,0], (len(array), 1))\n",
    "    if color_name == 'neon green':\n",
    "        color_array = np.tile([0.3, 1, 0.22], (len(array), 1))\n",
    "    if color_name == 'light green':\n",
    "        color_array = np.tile([0.71, 1, 0.68], (len(array), 1))\n",
    "    if color_name == 'medium green':\n",
    "        color_array = np.tile([0.13, 0.9, 0.24], (len(array), 1))\n",
    "    if color_name == 'dark green':\n",
    "        color_array = np.tile([0.03, 0.74, 0.14], (len(array), 1))\n",
    "    if color_array == 'neon blue':\n",
    "        color_array = np.tile([0.22, 1, 0.9], (len(array), 1)) \n",
    "    if color_array == 'sky blue':\n",
    "        color_array = np.tile([0.5, 0.93, 1], (len(array), 1))\n",
    "    if color_name == 'light blue':\n",
    "        color_array = np.tile([0.72, 0.83, 1], (len(array), 1))\n",
    "    if color_name == 'medium blue':\n",
    "        color_array = np.tile([0.22, 0.3, 1], (len(array), 1))\n",
    "    if color_name == 'dark blue':\n",
    "        color_array = np.tile([0.14, 0.13, 0.9], (len(array), 1))\n",
    "    if color_name == 'light red':\n",
    "        color_array = np.tile([1, 0.72, 0.72], (len(array), 1))\n",
    "    if color_name == 'medium red':\n",
    "        color_array = np.tile([1, 0.22, 0.22], (len(array), 1))\n",
    "    if color_name == 'dark red':\n",
    "        color_array = np.tile([1, 0.03, 0.03], (len(array), 1))\n",
    "    if color_name == 'light brown':\n",
    "        color_array = np.tile([0.8, 0.6, 0.4], (len(array), 1))\n",
    "    if color_name == 'medium brown':\n",
    "        color_array = np.tile([0.6, 0.4, 0.2], (len(array), 1))\n",
    "    if color_name == 'dark brown':\n",
    "        color_array = np.tile([0.4, 0.2, 0], (len(array), 1))\n",
    "    if color_name == 'light yellow':\n",
    "        color_array = np.tile([1, 1, 0.8], (len(array), 1))\n",
    "    if color_name == 'medium yellow':\n",
    "        color_array = np.tile([1, 1, 0.4], (len(array), 1))\n",
    "    if color_name == 'dark yellow':\n",
    "        color_array = np.tile([1, 1, 0], (len(array), 1))\n",
    "    if color_name == 'light purple':\n",
    "        color_array = np.tile([0.8, 0.6, 1], (len(array), 1))\n",
    "    if color_name == 'medium purple':\n",
    "        color_array = np.tile([0.4, 0.2, 1], (len(array), 1))\n",
    "    if color_name == 'dark purple':\n",
    "        color_array = np.tile([0, 0, 1], (len(array), 1))\n",
    "    if color_name == 'light pink':\n",
    "        color_array = np.tile([1, 0.8, 1], (len(array), 1))\n",
    "    if color_name == 'medium pink':\n",
    "        color_array = np.tile([1, 0.4, 1], (len(array), 1))\n",
    "    if color_name == 'dark pink':\n",
    "        color_array = np.tile([1, 0, 1], (len(array), 1))\n",
    "    if color_name == 'light orange':\n",
    "        color_array = np.tile([1, 0.72, 0.5], (len(array), 1))\n",
    "    if color_name == 'medium orange':\n",
    "        color_array = np.tile([1, 0.4, 0.2], (len(array), 1))\n",
    "    if color_name == 'dark orange':\n",
    "        color_array = np.tile([0.87, 0.4, 0.5], (len(array), 1))\n",
    "    return color_array\n"
   ]
  },
  {
   "cell_type": "code",
   "execution_count": 9,
   "metadata": {},
   "outputs": [],
   "source": [
    "def get_list_colors():\n",
    "    list_colors = []\n",
    "    for i in range(7):\n",
    "        list_colors.append('light green')\n",
    "    for i in range(5):\n",
    "        list_colors.append('dark red')\n",
    "    list_colors.append('light pink')\n",
    "    for i in range(5):\n",
    "        list_colors.append('dark red')\n",
    "    for i in range(4):\n",
    "        list_colors.append('dark blue')\n",
    "    list_colors.append('dark purple')\n",
    "    for i in range(3):\n",
    "        list_colors.append('light purple')\n",
    "    for i in range(2):\n",
    "        list_colors.append('dark purple')\n",
    "    for i in range(3):\n",
    "        list_colors.append('light purple')\n",
    "    list_colors.append('dark purple')\n",
    "    for i in range(2):\n",
    "        list_colors.append('neon green')\n",
    "    for i in range(5):\n",
    "        list_colors.append('medium orange')\n",
    "    list_colors.append('medium green')\n",
    "    list_colors.append('medium red')\n",
    "    for i in range(4):\n",
    "        list_colors.append('dark purple')\n",
    "    list_colors.append('medium red')\n",
    "    for i in range(5):\n",
    "        list_colors.append('medium pink')\n",
    "    for i in range(5):\n",
    "        list_colors.append('dark yellow')\n",
    "    for i in range(3):\n",
    "        list_colors.append('medium blue')\n",
    "    for i in range(6):\n",
    "        list_colors.append('light blue')\n",
    "    for i in range(3):\n",
    "        list_colors.append('medium purple')\n",
    "    for i in range(3):\n",
    "        list_colors.append('dark green')\n",
    "    list_colors.append('medium red')\n",
    "    for i in range(2):\n",
    "        list_colors.append('dark green')\n",
    "    for i in range(3):\n",
    "        list_colors.append('medium blue')\n",
    "    for i in range(6):\n",
    "        list_colors.append('light blue')\n",
    "    for i in range(5):\n",
    "        list_colors.append('dark yellow')\n",
    "    for i in range(5):\n",
    "        list_colors.append('medium pink')\n",
    "    list_colors.append('medium green')\n",
    "    for i in range(5):\n",
    "        list_colors.append('medium orange')\n",
    "    for i in range(2):\n",
    "        list_colors.append('neon green')\n",
    "    list_colors.append('sky blue')\n",
    "    list_colors.append('neon blue')\n",
    "    list_colors.append('sky blue')\n",
    "    list_colors.append('neon blue')\n",
    "    return list_colors\n"
   ]
  },
  {
   "cell_type": "code",
   "execution_count": 35,
   "metadata": {},
   "outputs": [],
   "source": [
    "def pc_colored(pc_array):\n",
    "    list_colors = get_list_colors()\n",
    "    list_pc = []\n",
    "\n",
    "    pc0 = o3d.geometry.PointCloud()\n",
    "    v3d0 = o3d.utility.Vector3dVector\n",
    "    pc0.points = v3d0(pc_array[:7])\n",
    "    pc0.colors = v3d0(np.tile([0.71, 1, 0.68], (len(spca0[:7]), 1)))\n",
    "    list_pc.append(pc0)\n",
    "    pc1 = o3d.geometry.PointCloud()\n",
    "    v3d1 = o3d.utility.Vector3dVector\n",
    "    pc1.points = v3d1(pc_array[7:12])\n",
    "    pc1.colors = v3d1(np.tile([1, 0.03, 0.03], (len(spca0[7:12]), 1)))\n",
    "    list_pc.append(pc1)\n",
    "    '''\n",
    "    if False:\n",
    "        for (color, array) in zip(list_colors[:7], pc_array[:7]): # quite ugly attempt of solution\n",
    "            # If array is not all np.nan, create the objects\n",
    "            if not np.isnan(array).all():\n",
    "                print(array)\n",
    "                color_array = colored_array(color, array.reshape(1, -1))\n",
    "                pc = o3d.geometry.PointCloud()\n",
    "                v3d = o3d.utility.Vector3dVector\n",
    "                pc.points = v3d(array.reshape(1, -1))\n",
    "                pc.colors = v3d(color_array)\n",
    "                list_pc.append(pc)\n",
    "    '''\n",
    "    return list_pc\n"
   ]
  },
  {
   "cell_type": "code",
   "execution_count": 11,
   "metadata": {},
   "outputs": [
    {
     "name": "stdout",
     "output_type": "stream",
     "text": [
      "105\n",
      "['light green', 'light green', 'light green', 'light green', 'light green', 'light green', 'light green', 'dark red', 'dark red', 'dark red', 'dark red', 'dark red', 'light pink', 'dark red', 'dark red', 'dark red', 'dark red', 'dark red', 'dark blue', 'dark blue', 'dark blue', 'dark blue', 'dark purple', 'light purple', 'light purple', 'light purple', 'dark purple', 'dark purple', 'light purple', 'light purple', 'light purple', 'dark purple', 'neon green', 'neon green', 'medium orange', 'medium orange', 'medium orange', 'medium orange', 'medium orange', 'medium green', 'medium red', 'dark purple', 'dark purple', 'dark purple', 'dark purple', 'medium red', 'medium pink', 'medium pink', 'medium pink', 'medium pink', 'medium pink', 'dark yellow', 'dark yellow', 'dark yellow', 'dark yellow', 'dark yellow', 'medium blue', 'medium blue', 'medium blue', 'light blue', 'light blue', 'light blue', 'light blue', 'light blue', 'light blue', 'medium purple', 'medium purple', 'medium purple', 'dark green', 'dark green', 'dark green', 'medium red', 'dark green', 'dark green', 'medium blue', 'medium blue', 'medium blue', 'light blue', 'light blue', 'light blue', 'light blue', 'light blue', 'light blue', 'dark yellow', 'dark yellow', 'dark yellow', 'dark yellow', 'dark yellow', 'medium pink', 'medium pink', 'medium pink', 'medium pink', 'medium pink', 'medium green', 'medium orange', 'medium orange', 'medium orange', 'medium orange', 'medium orange', 'neon green', 'neon green', 'sky blue', 'neon blue', 'sky blue', 'neon blue']\n"
     ]
    }
   ],
   "source": [
    "list_colors = get_list_colors()\n",
    "print(len(list_colors))\n",
    "print(list_colors)"
   ]
  },
  {
   "cell_type": "code",
   "execution_count": 12,
   "metadata": {},
   "outputs": [
    {
     "data": {
      "text/plain": [
       "(108, 3)"
      ]
     },
     "execution_count": 12,
     "metadata": {},
     "output_type": "execute_result"
    }
   ],
   "source": [
    "spca0.shape"
   ]
  },
  {
   "cell_type": "code",
   "execution_count": 36,
   "metadata": {},
   "outputs": [
    {
     "name": "stdout",
     "output_type": "stream",
     "text": [
      "[Open3D WARNING] GLFW Error: WGL: Failed to make context current: Descripteur non valide \n",
      "[Open3D WARNING] GLFW Error: WGL: Failed to make context current: Descripteur non valide \n",
      "[Open3D WARNING] GLFW Error: WGL: Failed to make context current: L’opération de transformation demandée n’est pas prise en charge. \n",
      "[Open3D WARNING] GLFW Error: WGL: Failed to make context current: Descripteur non valide \n"
     ]
    }
   ],
   "source": [
    "list_pc = pc_colored(spca0[3:, :])\n",
    "'''\n",
    "pc_array = spca0[3:, :]\n",
    "list_pc = []\n",
    "\n",
    "pc = o3d.geometry.PointCloud()\n",
    "v3d = o3d.utility.Vector3dVector\n",
    "pc.points = v3d(pc_array[:7])\n",
    "\n",
    "color_array = colored_array(list_colors[0], pc_array) # here is the problem\n",
    "pc.colors = v3d(color_array)\n",
    "list_pc.append(pc)\n",
    "'''\n",
    "\n",
    "o3d.visualization.draw_geometries(list_pc)"
   ]
  },
  {
   "cell_type": "code",
   "execution_count": 27,
   "metadata": {},
   "outputs": [
    {
     "data": {
      "text/plain": [
       "array([[0.46095911, 0.7894191 , 0.97795078],\n",
       "       [0.36836227, 0.69777854, 0.99635276],\n",
       "       [0.29893685, 0.59015291, 0.99689156],\n",
       "       [0.29072664, 0.48390765, 0.99841124],\n",
       "       [0.30018944, 0.37921441, 0.99437026],\n",
       "       [0.3605004 , 0.27209658, 0.99451532],\n",
       "       [0.45387474, 0.17078631, 0.95932775],\n",
       "       [0.58839094, 0.90820209, 0.82764718],\n",
       "       [0.46354813, 0.85892374, 0.86700008],\n",
       "       [0.34768605, 0.7741564 , 0.8936498 ],\n",
       "       [0.27968189, 0.66906264, 0.90914366],\n",
       "       [0.23933452, 0.56951179, 0.8811055 ],\n",
       "       [0.25248322, 0.47769958, 0.81569695],\n",
       "       [0.23174113, 0.37806291, 0.87459849],\n",
       "       [0.28649878, 0.2719893 , 0.89058971],\n",
       "       [0.38614206, 0.15826288, 0.89646812],\n",
       "       [0.46203504, 0.11040782, 0.87283013],\n",
       "       [0.57269314, 0.06492726, 0.83543211],\n",
       "       [0.21827304, 0.47084066, 0.74795361],\n",
       "       [0.13745653, 0.47158449, 0.68307694],\n",
       "       [0.03017794, 0.48327826, 0.6264342 ],\n",
       "       [0.10691629, 0.48873536, 0.47733945],\n",
       "       [0.52662078, 0.84871762, 0.70161708],\n",
       "       [0.44102447, 0.81035346, 0.64109915],\n",
       "       [0.37020373, 0.71892746, 0.61440798],\n",
       "       [0.35046471, 0.63140654, 0.64696374],\n",
       "       [0.39425046, 0.56244546, 0.74714541],\n",
       "       [0.38806935, 0.38832625, 0.73827599],\n",
       "       [0.35450393, 0.3315739 , 0.6391581 ],\n",
       "       [0.39759203, 0.24253673, 0.62126728],\n",
       "       [0.45925739, 0.15441503, 0.61173472],\n",
       "       [0.56777261, 0.09601053, 0.69397722],\n",
       "       [0.08342649, 0.386152  , 0.56280782],\n",
       "       [0.20069586, 0.3542963 , 0.5045556 ],\n",
       "       [0.26034609, 0.4065714 , 0.71907272],\n",
       "       [0.28158623, 0.36770659, 0.63963472],\n",
       "       [0.27559975, 0.35343804, 0.57252689],\n",
       "       [0.28048435, 0.3091519 , 0.48305898],\n",
       "       [0.29945385, 0.23609979, 0.40789683],\n",
       "       [0.35802017, 0.23245219, 0.50702163],\n",
       "       [0.25672007, 0.2555608 , 0.27303184],\n",
       "       [0.14280524, 0.34389707, 0.33697597],\n",
       "       [0.09735968, 0.44676651, 0.38829291],\n",
       "       [0.10063338, 0.54760474, 0.39218192],\n",
       "       [0.16582895, 0.63831552, 0.333757  ],\n",
       "       [0.24678618, 0.71298402, 0.28110688],\n",
       "       [0.33695969, 0.79085669, 0.32283601],\n",
       "       [0.42367685, 0.83561487, 0.38973661],\n",
       "       [0.50982809, 0.88823327, 0.47829961],\n",
       "       [0.5975573 , 0.92629704, 0.5501461 ],\n",
       "       [0.67562709, 0.94601553, 0.62722167],\n",
       "       [0.87283467, 0.98547397, 0.49931269],\n",
       "       [0.76030018, 0.96264429, 0.43563796],\n",
       "       [0.64138298, 0.93508704, 0.37983104],\n",
       "       [0.51838163, 0.88515785, 0.30428896],\n",
       "       [0.42511109, 0.82813372, 0.22588712],\n",
       "       [0.30955342, 0.75861477, 0.22332438],\n",
       "       [0.35034494, 0.76176887, 0.15117396],\n",
       "       [0.41408829, 0.76292037, 0.07820843],\n",
       "       [0.51548121, 0.83455635, 0.12549821],\n",
       "       [0.57836023, 0.88617345, 0.18925584],\n",
       "       [0.67921519, 0.93012345, 0.22260598],\n",
       "       [0.78322607, 0.96572687, 0.2825713 ],\n",
       "       [0.87483083, 0.98002403, 0.33698288],\n",
       "       [0.98535817, 0.99058061, 0.36468256],\n",
       "       [0.16577106, 0.60099558, 0.25073394],\n",
       "       [0.1445948 , 0.50175228, 0.24325986],\n",
       "       [0.15878849, 0.3989329 , 0.24157439],\n",
       "       [0.13452517, 0.60688896, 0.07961068],\n",
       "       [0.15433905, 0.57932455, 0.18513197],\n",
       "       [0.11814469, 0.47996681, 0.19149392],\n",
       "       [0.09576674, 0.47967358, 0.08879786],\n",
       "       [0.12284465, 0.39772418, 0.08000442],\n",
       "       [0.16219594, 0.39346865, 0.17644214],\n",
       "       [0.3104996 , 0.24629876, 0.18489711],\n",
       "       [0.3630984 , 0.2406128 , 0.11434926],\n",
       "       [0.43353089, 0.23671487, 0.06113272],\n",
       "       [0.49154626, 0.17617188, 0.1289175 ],\n",
       "       [0.57503064, 0.14119784, 0.15318408],\n",
       "       [0.63643849, 0.09095395, 0.19175641],\n",
       "       [0.73723855, 0.04804102, 0.2359861 ],\n",
       "       [0.84177243, 0.0262198 , 0.25607355],\n",
       "       [0.97839157, 0.00882576, 0.31067854],\n",
       "       [0.85199077, 0.01712941, 0.44296007],\n",
       "       [0.70766445, 0.03429458, 0.38472856],\n",
       "       [0.59261481, 0.07499034, 0.34560363],\n",
       "       [0.50477781, 0.12795205, 0.28303412],\n",
       "       [0.4303021 , 0.17252428, 0.22053369],\n",
       "       [0.35354877, 0.1925074 , 0.30718327],\n",
       "       [0.42816122, 0.15674663, 0.39627125],\n",
       "       [0.50335954, 0.1025476 , 0.46460865],\n",
       "       [0.58829312, 0.05717433, 0.54106944],\n",
       "       [0.71232149, 0.01971134, 0.60213999],\n",
       "       [0.34149397, 0.74417457, 0.51203658],\n",
       "       [0.3016656 , 0.54487262, 0.7250133 ],\n",
       "       [0.26675277, 0.58053326, 0.64739202],\n",
       "       [0.28055821, 0.5975697 , 0.56703531],\n",
       "       [0.27357963, 0.65978629, 0.48286557],\n",
       "       [0.2638264 , 0.72699509, 0.40472622],\n",
       "       [0.20137156, 0.61326153, 0.52164513],\n",
       "       [0.08941696, 0.56768799, 0.57388079],\n",
       "       [0.35314555, 0.71163226, 0.81010175],\n",
       "       [0.33396944, 0.72098013, 0.75997983],\n",
       "       [0.37075666, 0.23421162, 0.7744859 ],\n",
       "       [0.35653802, 0.23161539, 0.71476925]])"
      ]
     },
     "execution_count": 27,
     "metadata": {},
     "output_type": "execute_result"
    }
   ],
   "source": [
    "spca0[3:, :]"
   ]
  },
  {
   "cell_type": "code",
   "execution_count": 15,
   "metadata": {},
   "outputs": [],
   "source": [
    "pc0 = o3d.geometry.PointCloud()\n",
    "v3d0 = o3d.utility.Vector3dVector\n",
    "pc0.points = v3d0(spca0[:7])\n",
    "pc0.colors = v3d0(np.tile([1, 0, 0], (len(spca0[:7]), 1)))\n",
    "\n",
    "list_pc.insert(0, pc0)"
   ]
  },
  {
   "cell_type": "code",
   "execution_count": 16,
   "metadata": {},
   "outputs": [],
   "source": [
    "o3d.visualization.draw_geometries(list_pc)"
   ]
  },
  {
   "cell_type": "code",
   "execution_count": 1,
   "metadata": {},
   "outputs": [
    {
     "ename": "NameError",
     "evalue": "name 'list_pc' is not defined",
     "output_type": "error",
     "traceback": [
      "\u001b[1;31m---------------------------------------------------------------------------\u001b[0m",
      "\u001b[1;31mNameError\u001b[0m                                 Traceback (most recent call last)",
      "Cell \u001b[1;32mIn[1], line 1\u001b[0m\n\u001b[1;32m----> 1\u001b[0m \u001b[39mprint\u001b[39m(\u001b[39mlen\u001b[39m(list_pc))\n",
      "\u001b[1;31mNameError\u001b[0m: name 'list_pc' is not defined"
     ]
    }
   ],
   "source": [
    "print(len(list_pc))"
   ]
  },
  {
   "cell_type": "code",
   "execution_count": 73,
   "metadata": {},
   "outputs": [
    {
     "data": {
      "text/plain": [
       "array([[0.46095911, 0.7894191 , 0.97795078]])"
      ]
     },
     "execution_count": 73,
     "metadata": {},
     "output_type": "execute_result"
    }
   ],
   "source": [
    "spca0[0].reshape(1, -1)"
   ]
  },
  {
   "cell_type": "code",
   "execution_count": null,
   "metadata": {},
   "outputs": [],
   "source": []
  }
 ],
 "metadata": {
  "kernelspec": {
   "display_name": ".venv",
   "language": "python",
   "name": "python3"
  },
  "language_info": {
   "codemirror_mode": {
    "name": "ipython",
    "version": 3
   },
   "file_extension": ".py",
   "mimetype": "text/x-python",
   "name": "python",
   "nbconvert_exporter": "python",
   "pygments_lexer": "ipython3",
   "version": "3.9.0"
  },
  "orig_nbformat": 4
 },
 "nbformat": 4,
 "nbformat_minor": 2
}
